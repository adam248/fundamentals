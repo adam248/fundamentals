{
 "cells": [
  {
   "cell_type": "markdown",
   "metadata": {},
   "source": [
    "# One Edit\n",
    "\n",
    "Return a boolean that confirms if two strings can be made equal by a single character edit.\n",
    "Edit can be replace, add, or remove.\n",
    "\n",
    "# Best Complexity\n",
    "\n",
    "`O(n) time`, where `n` is the shortest string length  \n",
    "`O(1) space`, because iteration is more space efficent than slicing."
   ]
  },
  {
   "cell_type": "code",
   "execution_count": 15,
   "metadata": {},
   "outputs": [],
   "source": [
    "def oneEdit(a: str, b: str) -> bool:\n",
    "    \"\"\"`O(n+m) time`, where `n` and `m` are the lengths of the two strings.\n",
    "    `O(n+m) space`, because string slicing is a copy function. Could optimize via `buffer` built-in python function.\"\"\"\n",
    "    lengthA, lengthB = len(a), len(b)\n",
    "    if abs(lengthA - lengthB) > 1:\n",
    "        return False\n",
    "    for i in range(min(lengthA, lengthB)):\n",
    "        if a[i] != b[i]:\n",
    "            if lengthA > lengthB:\n",
    "                return a[i+1:] == b[i:]\n",
    "            elif lengthB > lengthA:\n",
    "                return a[i:] == b[i+1:]\n",
    "            else:\n",
    "                return a[i+1:] == b[i+1:]\n",
    "    return True"
   ]
  },
  {
   "cell_type": "code",
   "execution_count": null,
   "metadata": {},
   "outputs": [],
   "source": [
    "def oneEdit(a: str, b: str) -> bool:\n",
    "    \"\"\"`O(n) time`, where `n` is the shortest string length\n",
    "    `O(1) space`, because iteration is more space efficent than slicing.\n",
    "    \"\"\"\n",
    "    lengthA, lengthB = len(a), len(b)\n",
    "    if abs(lengthA - lengthB) > 1:\n",
    "        return False\n",
    "    madeEdit = False\n",
    "    indexA = 0\n",
    "    indexB = 0\n",
    "    while indexA < lengthA and indexB < lengthB:\n",
    "        if a[indexA] != b[indexB]:\n",
    "            if madeEdit:\n",
    "                return False\n",
    "            madeEdit = True\n",
    "            \n",
    "            if lengthA > lengthB:\n",
    "                indexA += 1\n",
    "            elif lengthB > lengthA:\n",
    "                indexB += 1\n",
    "            else:\n",
    "                indexA += 1\n",
    "                indexB += 1\n",
    "        else:\n",
    "            indexA += 1\n",
    "            indexB += 1\n",
    "\n",
    "    return True\n"
   ]
  },
  {
   "cell_type": "markdown",
   "metadata": {},
   "source": [
    "# Tests"
   ]
  },
  {
   "cell_type": "code",
   "execution_count": 16,
   "metadata": {},
   "outputs": [],
   "source": [
    "assert oneEdit('hello', 'hollo') == True\n",
    "assert oneEdit('hello', 'helloo') == True\n",
    "assert oneEdit('hello', 'hllo') == True\n",
    "assert oneEdit('world', 'hello') == False"
   ]
  }
 ],
 "metadata": {
  "kernelspec": {
   "display_name": "Python 3",
   "language": "python",
   "name": "python3"
  },
  "language_info": {
   "codemirror_mode": {
    "name": "ipython",
    "version": 3
   },
   "file_extension": ".py",
   "mimetype": "text/x-python",
   "name": "python",
   "nbconvert_exporter": "python",
   "pygments_lexer": "ipython3",
   "version": "3.10.9"
  },
  "orig_nbformat": 4
 },
 "nbformat": 4,
 "nbformat_minor": 2
}
