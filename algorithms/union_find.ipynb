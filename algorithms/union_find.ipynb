{
 "cells": [
  {
   "cell_type": "markdown",
   "metadata": {},
   "source": [
    "# Union Find\n",
    "\n",
    "A `UnionFind` class that implements the [Disjoint Set](https://github.com/adam248/fundamentals/blob/master/data-structures/disjoint-set.md) data structure.\n",
    "\n",
    "The UnionFind class implements the union-find (also called a disjoint set) data structure, which stores unique values in disjoint sets where no set can have duplicate values, and no two sets can contain the same value. It provides three methods: \n",
    "- `createSet(value)`, which adds a given value in a new set, \n",
    "- `union(valueOne, valueTwo)`, which combines sets that contain the two given values, and \n",
    "- `find(value)`, which returns the representative value of the set to which the given value belongs. If the value is not in a set, find returns null/None. \n",
    "\n",
    "Note that the representative value can potentially change after a set is part of a union. The createSet method is guaranteed to never be called with the same value twice."
   ]
  },
  {
   "cell_type": "code",
   "execution_count": 2,
   "metadata": {},
   "outputs": [],
   "source": [
    "class UnionFind:\n",
    "    def __init__(self):\n",
    "        # Write your code here\n",
    "        pass\n",
    "\n",
    "    def createSet(self, value):\n",
    "        # Write your code here\n",
    "        pass\n",
    "\n",
    "    def find(self, value):\n",
    "        # Write your code here\n",
    "        pass\n",
    "\n",
    "    def union(self, valueOne, valueTwo):\n",
    "        # Write your code here\n",
    "        pass\n"
   ]
  },
  {
   "cell_type": "markdown",
   "metadata": {},
   "source": [
    "\n",
    "### Sample Usage\n",
    "```\n",
    "createSet(5): None \n",
    "createSet(10): None \n",
    "find(5): 5\n",
    "find(10): 10\n",
    "union(5, 10): None\n",
    "find(5): 5\n",
    "find(10): 5\n",
    "createSet(20): None\n",
    "find(20): 20\n",
    "union(20, 10): None\n",
    "find(5): 5\n",
    "find(10): 5\n",
    "find(20): 5\n",
    "```"
   ]
  },
  {
   "cell_type": "code",
   "execution_count": 3,
   "metadata": {},
   "outputs": [
    {
     "ename": "AssertionError",
     "evalue": "",
     "output_type": "error",
     "traceback": [
      "\u001b[0;31m---------------------------------------------------------------------------\u001b[0m",
      "\u001b[0;31mAssertionError\u001b[0m                            Traceback (most recent call last)",
      "\u001b[1;32m/home/adam/code/fundamentals/algorithms/union_find.ipynb Cell 4\u001b[0m in \u001b[0;36m<cell line: 5>\u001b[0;34m()\u001b[0m\n\u001b[1;32m      <a href='vscode-notebook-cell:/home/adam/code/fundamentals/algorithms/union_find.ipynb#W3sZmlsZQ%3D%3D?line=2'>3</a>\u001b[0m ds\u001b[39m.\u001b[39mcreateSet(\u001b[39m5\u001b[39m)\n\u001b[1;32m      <a href='vscode-notebook-cell:/home/adam/code/fundamentals/algorithms/union_find.ipynb#W3sZmlsZQ%3D%3D?line=3'>4</a>\u001b[0m ds\u001b[39m.\u001b[39mcreateSet(\u001b[39m10\u001b[39m)\n\u001b[0;32m----> <a href='vscode-notebook-cell:/home/adam/code/fundamentals/algorithms/union_find.ipynb#W3sZmlsZQ%3D%3D?line=4'>5</a>\u001b[0m \u001b[39massert\u001b[39;00m ds\u001b[39m.\u001b[39mfind(\u001b[39m5\u001b[39m) \u001b[39m==\u001b[39m \u001b[39m5\u001b[39m\n\u001b[1;32m      <a href='vscode-notebook-cell:/home/adam/code/fundamentals/algorithms/union_find.ipynb#W3sZmlsZQ%3D%3D?line=5'>6</a>\u001b[0m \u001b[39massert\u001b[39;00m ds\u001b[39m.\u001b[39mfind(\u001b[39m10\u001b[39m) \u001b[39m==\u001b[39m \u001b[39m10\u001b[39m\n\u001b[1;32m      <a href='vscode-notebook-cell:/home/adam/code/fundamentals/algorithms/union_find.ipynb#W3sZmlsZQ%3D%3D?line=6'>7</a>\u001b[0m ds\u001b[39m.\u001b[39munion(\u001b[39m5\u001b[39m, \u001b[39m10\u001b[39m)\n",
      "\u001b[0;31mAssertionError\u001b[0m: "
     ]
    }
   ],
   "source": [
    "# Tests\n",
    "ds = disjoint_set = UnionFind()\n",
    "ds.createSet(5)\n",
    "ds.createSet(10)\n",
    "assert ds.find(5) == 5\n",
    "assert ds.find(10) == 10\n",
    "ds.union(5, 10)\n",
    "assert ds.find(5) == 5\n",
    "assert ds.find(10) == 5\n",
    "ds.createSet(20)\n",
    "assert ds.find(20) == 20\n",
    "ds.union(20, 10)\n",
    "assert ds.find(5) == 5\n",
    "assert ds.find(10) == 5\n",
    "assert ds.find(20) == 5\n"
   ]
  }
 ],
 "metadata": {
  "kernelspec": {
   "display_name": "Python 3",
   "language": "python",
   "name": "python3"
  },
  "language_info": {
   "codemirror_mode": {
    "name": "ipython",
    "version": 3
   },
   "file_extension": ".py",
   "mimetype": "text/x-python",
   "name": "python",
   "nbconvert_exporter": "python",
   "pygments_lexer": "ipython3",
   "version": "3.10.9"
  },
  "orig_nbformat": 4,
  "vscode": {
   "interpreter": {
    "hash": "520e995520d0f28b9f1e7cacfd9ba1493aa60b57e5f0cc1543205df7dd9220a2"
   }
  }
 },
 "nbformat": 4,
 "nbformat_minor": 2
}
