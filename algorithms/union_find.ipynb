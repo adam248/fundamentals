{
 "cells": [
  {
   "cell_type": "markdown",
   "metadata": {},
   "source": [
    "# Union Find\n",
    "\n",
    "\n",
    "\n",
    "A `UnionFind` class that implements the [Disjoint Set](https://github.com/adam248/fundamentals/blob/master/data-structures/disjoint-set.md) data structure."
   ]
  },
  {
   "cell_type": "code",
   "execution_count": null,
   "metadata": {},
   "outputs": [],
   "source": [
    "class UnionFind:\n",
    "    def __init__(self):\n",
    "        # Write your code here\n",
    "        pass\n",
    "\n",
    "    def createSet(self, value):\n",
    "        # Write your code here\n",
    "        pass\n",
    "\n",
    "    def find(self, value):\n",
    "        # Write your code here\n",
    "        pass\n",
    "\n",
    "    def union(self, valueOne, valueTwo):\n",
    "        # Write your code here\n",
    "        pass\n"
   ]
  },
  {
   "cell_type": "code",
   "execution_count": null,
   "metadata": {},
   "outputs": [],
   "source": [
    "# Tests\n"
   ]
  }
 ],
 "metadata": {
  "kernelspec": {
   "display_name": "Python 3.10.9 64-bit",
   "language": "python",
   "name": "python3"
  },
  "language_info": {
   "name": "python",
   "version": "3.10.9"
  },
  "orig_nbformat": 4,
  "vscode": {
   "interpreter": {
    "hash": "520e995520d0f28b9f1e7cacfd9ba1493aa60b57e5f0cc1543205df7dd9220a2"
   }
  }
 },
 "nbformat": 4,
 "nbformat_minor": 2
}
