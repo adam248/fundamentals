{
 "cells": [
  {
   "cell_type": "markdown",
   "metadata": {},
   "source": [
    "# Union Find\n",
    "\n",
    "A `UnionFind` class that implements the [Disjoint Set](https://github.com/adam248/fundamentals/blob/master/data-structures/disjoint-set.md) data structure.\n",
    "\n",
    "The UnionFind class implements the union-find (also called a disjoint set) data structure, which stores unique values in disjoint sets where no set can have duplicate values, and no two sets can contain the same value. It provides three methods: `createSet(value)`, which adds a given value in a new set, `union(valueOne, valueTwo)`, which combines sets that contain the two given values, and `find(value)`, which returns the representative value of the set to which the given value belongs. If the value is not in a set, find returns null/None. Note that the representative value can potentially change after a set is part of a union. The createSet method is guaranteed to never be called with the same value twice."
   ]
  },
  {
   "cell_type": "code",
   "execution_count": null,
   "metadata": {},
   "outputs": [],
   "source": [
    "class UnionFind:\n",
    "    def __init__(self):\n",
    "        # Write your code here\n",
    "        pass\n",
    "\n",
    "    def createSet(self, value):\n",
    "        # Write your code here\n",
    "        pass\n",
    "\n",
    "    def find(self, value):\n",
    "        # Write your code here\n",
    "        pass\n",
    "\n",
    "    def union(self, valueOne, valueTwo):\n",
    "        # Write your code here\n",
    "        pass\n"
   ]
  },
  {
   "cell_type": "markdown",
   "metadata": {},
   "source": [
    "\n",
    "### Sample Usage\n",
    "```\n",
    "createSet(5): null\n",
    "createSet(10): null\n",
    "find(5): 5\n",
    "find(10): 10\n",
    "union(5, 10): null\n",
    "find(5): 5\n",
    "find(10): 5\n",
    "createSet(20): null\n",
    "find(20): 20\n",
    "union(20, 10): null\n",
    "find(5): 5\n",
    "find(10): 5\n",
    "find(20): 5\n",
    "```"
   ]
  },
  {
   "cell_type": "code",
   "execution_count": null,
   "metadata": {},
   "outputs": [],
   "source": [
    "# Tests\n"
   ]
  }
 ],
 "metadata": {
  "kernelspec": {
   "display_name": "Python 3.10.9 64-bit",
   "language": "python",
   "name": "python3"
  },
  "language_info": {
   "name": "python",
   "version": "3.10.9"
  },
  "orig_nbformat": 4,
  "vscode": {
   "interpreter": {
    "hash": "520e995520d0f28b9f1e7cacfd9ba1493aa60b57e5f0cc1543205df7dd9220a2"
   }
  }
 },
 "nbformat": 4,
 "nbformat_minor": 2
}
